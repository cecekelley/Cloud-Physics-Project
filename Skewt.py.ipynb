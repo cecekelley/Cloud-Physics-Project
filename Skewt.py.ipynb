{
 "cells": [
  {
   "cell_type": "code",
   "execution_count": 2,
   "metadata": {
    "collapsed": true
   },
   "outputs": [],
   "source": [
    "import numpy as np\n",
    "import matplotlib.pyplot as plt\n",
    "%matplotlib qt\n",
    "from mpl_toolkits.axisartist import Subplot\n",
    "from matplotlib.ticker import FuncFormatter, Formatter\n",
    "from mpl_toolkits.axisartist.grid_helper_curvelinear import GridHelperCurveLinear\n",
    "C_to_K = 273.15\n",
    "skew_slope = 40"
   ]
  },
  {
   "cell_type": "code",
   "execution_count": 3,
   "metadata": {
    "collapsed": true
   },
   "outputs": [],
   "source": [
    "def x_from_Tp(T,p):\n",
    "    \"\"\"finding x coordinates from Tp. temp in celcius, p in mb\"\"\"\n",
    "    x_from_Tp = T - (skew_slope*np.log(p))\n",
    "    return(x_from_Tp)"
   ]
  },
  {
   "cell_type": "code",
   "execution_count": 4,
   "metadata": {
    "collapsed": true
   },
   "outputs": [],
   "source": [
    "def y_from_p(p):\n",
    "    \"\"\"finding y coordinates from pressure. p in mb\"\"\"\n",
    "    y_from_p = - np.log(p)\n",
    "    return(y_from_p)"
   ]
  },
  {
   "cell_type": "code",
   "execution_count": 5,
   "metadata": {
    "collapsed": true
   },
   "outputs": [],
   "source": [
    "def T_from_xp(x,p):\n",
    "    \"\"\"finding temp from the x coordinates. p in mb\"\"\"\n",
    "    T_from_xp = x+(skew_slope*np.log(p))\n",
    "    return(T_from_xp)"
   ]
  },
  {
   "cell_type": "code",
   "execution_count": 6,
   "metadata": {
    "collapsed": true
   },
   "outputs": [],
   "source": [
    "def p_from_y(y):\n",
    "    \"\"\"finding pressure from the y coordinates. p in mb\"\"\"\n",
    "    p_from_y = np.exp(-y)\n",
    "    return(p_from_y)"
   ]
  },
  {
   "cell_type": "code",
   "execution_count": 7,
   "metadata": {
    "collapsed": true
   },
   "outputs": [],
   "source": [
    "def to_thermo(x,y):\n",
    "    \"\"\"Transform (x,y) coordinates to T in degrees celsius and p in mb.\"\"\"\n",
    "    p = p_from_y(y)\n",
    "    T_C = T_from_xp(x,p) - C_to_K\n",
    "    return T_C , p"
   ]
  },
  {
   "cell_type": "code",
   "execution_count": 8,
   "metadata": {
    "collapsed": true
   },
   "outputs": [],
   "source": [
    "def from_thermo(T_C, p):\n",
    "    \"\"\"Transform T_C (in degress celsius) and p (in mb) to (x,y).\"\"\"\n",
    "    y= y_from_p(p)\n",
    "    x= x_from_Tp(T_C + C_to_K, p)\n",
    "    return x, y"
   ]
  },
  {
   "cell_type": "code",
   "execution_count": 9,
   "metadata": {
    "collapsed": true
   },
   "outputs": [],
   "source": [
    "#values along the bottom and left edges\n",
    "p_bottom = 1050.0\n",
    "p_top =150\n",
    "T_min = -40 + C_to_K\n",
    "T_max = 50 + C_to_K"
   ]
  },
  {
   "cell_type": "code",
   "execution_count": 10,
   "metadata": {},
   "outputs": [
    {
     "name": "stdout",
     "output_type": "stream",
     "text": [
      "-45.1118177261\n"
     ]
    }
   ],
   "source": [
    "x_min=x_from_Tp(T_min,p_bottom)\n",
    "print(x_min)\n",
    "    "
   ]
  },
  {
   "cell_type": "code",
   "execution_count": 11,
   "metadata": {},
   "outputs": [
    {
     "name": "stdout",
     "output_type": "stream",
     "text": [
      "122.724588236\n"
     ]
    }
   ],
   "source": [
    "x_max=x_from_Tp(T_max,p_top)\n",
    "print(x_max)"
   ]
  },
  {
   "cell_type": "code",
   "execution_count": 12,
   "metadata": {},
   "outputs": [
    {
     "name": "stdout",
     "output_type": "stream",
     "text": [
      "-6.95654544315\n"
     ]
    }
   ],
   "source": [
    "y_min=y_from_p(p_bottom)\n",
    "print(y_min)"
   ]
  },
  {
   "cell_type": "code",
   "execution_count": 13,
   "metadata": {},
   "outputs": [
    {
     "name": "stdout",
     "output_type": "stream",
     "text": [
      "-5.0106352941\n"
     ]
    }
   ],
   "source": [
    "y_max=y_from_p(p_top)\n",
    "print(y_max)"
   ]
  },
  {
   "cell_type": "code",
   "execution_count": 14,
   "metadata": {},
   "outputs": [
    {
     "name": "stdout",
     "output_type": "stream",
     "text": [
      "[1000  950  900  850  800  750  700  650  600  550  500  450  400  350  300\n",
      "  250  200  150]\n",
      "[-80 -70 -60 -50 -40 -30 -20 -10   0  10  20  30  40]\n"
     ]
    }
   ],
   "source": [
    "p_levels= np.arange(1000, 100, -50)\n",
    "T_C_levels= np.arange(-80, 40+10, 10)\n",
    "print (p_levels)\n",
    "print(T_C_levels)"
   ]
  },
  {
   "cell_type": "code",
   "execution_count": 15,
   "metadata": {},
   "outputs": [
    {
     "name": "stdout",
     "output_type": "stream",
     "text": [
      "[ 193.15  203.15  213.15  223.15  233.15  243.15  253.15  263.15  273.15\n",
      "  283.15  293.15  303.15  313.15]\n"
     ]
    }
   ],
   "source": [
    "T_levels= T_C_levels + C_to_K\n",
    "print(T_levels)"
   ]
  },
  {
   "cell_type": "code",
   "execution_count": 16,
   "metadata": {},
   "outputs": [
    {
     "name": "stdout",
     "output_type": "stream",
     "text": [
      "[ 233.15  243.15  253.15  263.15  273.15  283.15  293.15  303.15  313.15\n",
      "  323.15  333.15  343.15  353.15  363.15  373.15]\n"
     ]
    }
   ],
   "source": [
    "theta_levels= np.arange(-40, 100+10, 10)+ C_to_K\n",
    "print(theta_levels)"
   ]
  },
  {
   "cell_type": "code",
   "execution_count": 17,
   "metadata": {
    "collapsed": true
   },
   "outputs": [],
   "source": [
    "theta_ep_levels = theta_levels.copy()"
   ]
  },
  {
   "cell_type": "code",
   "execution_count": 18,
   "metadata": {
    "collapsed": true
   },
   "outputs": [],
   "source": [
    "mixing_ratios= np.asarray([0.0004, 0.001, 0.002, 0.003, 0.005, 0.008, 0.012, 0.016, 0.02])"
   ]
  },
  {
   "cell_type": "code",
   "execution_count": 19,
   "metadata": {
    "collapsed": true
   },
   "outputs": [],
   "source": [
    "import Bolton"
   ]
  },
  {
   "cell_type": "code",
   "execution_count": 20,
   "metadata": {
    "collapsed": true
   },
   "outputs": [],
   "source": [
    "p_all= np.arange(p_bottom, p_top-1, -1)\n",
    "#print(p_all)"
   ]
  },
  {
   "cell_type": "code",
   "execution_count": 21,
   "metadata": {},
   "outputs": [
    {
     "name": "stdout",
     "output_type": "stream",
     "text": [
      "[-6.90775528 -6.85646198 -6.80239476 -6.74523635 -6.68461173 -6.62007321\n",
      " -6.55108034 -6.47697236 -6.39692966 -6.30991828 -6.2146081  -6.10924758\n",
      " -5.99146455 -5.85793315 -5.70378247 -5.52146092 -5.29831737 -5.01063529]\n"
     ]
    }
   ],
   "source": [
    "y_p_levels= y_from_p(p_levels)\n",
    "print (y_p_levels)"
   ]
  },
  {
   "cell_type": "code",
   "execution_count": 22,
   "metadata": {
    "collapsed": true
   },
   "outputs": [],
   "source": [
    "y_all_p= y_from_p(p_all)\n",
    "#print(y_all_p)"
   ]
  },
  {
   "cell_type": "code",
   "execution_count": 23,
   "metadata": {
    "collapsed": true
   },
   "outputs": [],
   "source": [
    "x_T_levels= [x_from_Tp(Ti, p_all) for Ti in T_levels]"
   ]
  },
  {
   "cell_type": "code",
   "execution_count": 24,
   "metadata": {
    "collapsed": true
   },
   "outputs": [],
   "source": [
    "x_thetas = [x_from_Tp(Bolton.theta_dry(theta_i, p_all), p_all) for theta_i in theta_levels]"
   ]
  },
  {
   "cell_type": "code",
   "execution_count": 25,
   "metadata": {
    "collapsed": true
   },
   "outputs": [],
   "source": [
    "x_mixing_ratios= [x_from_Tp(Bolton.mixing_ratio_line(p_all, mixing_ratio_i)+C_to_K, p_all) for mixing_ratio_i in mixing_ratios]"
   ]
  },
  {
   "cell_type": "code",
   "execution_count": 26,
   "metadata": {},
   "outputs": [
    {
     "name": "stdout",
     "output_type": "stream",
     "text": [
      "('SVP_T=', array([[-60. , -59.9, -59.8, ...,  39.8,  39.9,  40. ],\n",
      "       [-60. , -59.9, -59.8, ...,  39.8,  39.9,  40. ],\n",
      "       [-60. , -59.9, -59.8, ...,  39.8,  39.9,  40. ],\n",
      "       ..., \n",
      "       [-60. , -59.9, -59.8, ...,  39.8,  39.9,  40. ],\n",
      "       [-60. , -59.9, -59.8, ...,  39.8,  39.9,  40. ],\n",
      "       [-60. , -59.9, -59.8, ...,  39.8,  39.9,  40. ]]))\n",
      "('SVP_T=', array([[-60. , -59.9, -59.8, ...,  39.8,  39.9,  40. ],\n",
      "       [-60. , -59.9, -59.8, ...,  39.8,  39.9,  40. ],\n",
      "       [-60. , -59.9, -59.8, ...,  39.8,  39.9,  40. ],\n",
      "       ..., \n",
      "       [-60. , -59.9, -59.8, ...,  39.8,  39.9,  40. ],\n",
      "       [-60. , -59.9, -59.8, ...,  39.8,  39.9,  40. ],\n",
      "       [-60. , -59.9, -59.8, ...,  39.8,  39.9,  40. ]]))\n"
     ]
    }
   ],
   "source": [
    "mesh_T, mesh_p = np.meshgrid( np.arange(-60.0, T_levels.max()-C_to_K+0.1, 0.1), p_all)\n",
    "theta_ep_mesh = Bolton.theta_ep_field(mesh_T, mesh_p)"
   ]
  },
  {
   "cell_type": "code",
   "execution_count": 27,
   "metadata": {
    "collapsed": true
   },
   "outputs": [],
   "source": [
    "def theta_e(T, p, p_0=1000):\n",
    "    R_d=287.1\n",
    "    alpha=3.139*10**6\n",
    "    cp=1005\n",
    "    cl=4218\n",
    "    w_s=Bolton.sat_mixing_ratio(p, T)\n",
    "    L_v= alpha-((T+273.15)*(cp-cl))\n",
    "    cwd=cp+(w_s*cl)\n",
    "    term_1= (273.15+T)* (p_0/p)**(R_d/cwd)\n",
    "    term_2= np.exp((L_v*w_s)/(cwd*(T+273.15)))\n",
    "    theta_e= term_1*term_2\n",
    "    return (theta_e)"
   ]
  },
  {
   "cell_type": "code",
   "execution_count": 28,
   "metadata": {
    "collapsed": true
   },
   "outputs": [],
   "source": [
    "def theta_e_line(T, p, p_0=1000):\n",
    "    w_s=Bolton.sat_mixing_ratio(p,T)\n",
    "    t_e=theta_e(T, p, p_0=1000)\n",
    "    theta_e_line=t_e\n",
    "    return (theta_e_line)"
   ]
  },
  {
   "cell_type": "code",
   "execution_count": 29,
   "metadata": {},
   "outputs": [
    {
     "name": "stdout",
     "output_type": "stream",
     "text": [
      "('SVP_T=', array([[-60. , -59.9, -59.8, ...,  39.8,  39.9,  40. ],\n",
      "       [-60. , -59.9, -59.8, ...,  39.8,  39.9,  40. ],\n",
      "       [-60. , -59.9, -59.8, ...,  39.8,  39.9,  40. ],\n",
      "       ..., \n",
      "       [-60. , -59.9, -59.8, ...,  39.8,  39.9,  40. ],\n",
      "       [-60. , -59.9, -59.8, ...,  39.8,  39.9,  40. ],\n",
      "       [-60. , -59.9, -59.8, ...,  39.8,  39.9,  40. ]]))\n",
      "('SVP_T=', array([[-60. , -59.9, -59.8, ...,  39.8,  39.9,  40. ],\n",
      "       [-60. , -59.9, -59.8, ...,  39.8,  39.9,  40. ],\n",
      "       [-60. , -59.9, -59.8, ...,  39.8,  39.9,  40. ],\n",
      "       ..., \n",
      "       [-60. , -59.9, -59.8, ...,  39.8,  39.9,  40. ],\n",
      "       [-60. , -59.9, -59.8, ...,  39.8,  39.9,  40. ],\n",
      "       [-60. , -59.9, -59.8, ...,  39.8,  39.9,  40. ]]))\n"
     ]
    }
   ],
   "source": [
    "theta_e_levels=theta_levels.copy()\n",
    "theta_mesh = theta_e_line(mesh_T, mesh_p)"
   ]
  },
  {
   "cell_type": "code",
   "execution_count": 30,
   "metadata": {
    "collapsed": true
   },
   "outputs": [],
   "source": [
    "skew_grid_helper = GridHelperCurveLinear((from_thermo, to_thermo))\n"
   ]
  },
  {
   "cell_type": "code",
   "execution_count": 31,
   "metadata": {},
   "outputs": [],
   "source": [
    "fig= plt.figure()\n",
    "ax= Subplot(fig, 1, 1, 1, grid_helper=skew_grid_helper)\n",
    "fig.add_subplot(ax)\n",
    "\n",
    "for yi in y_p_levels:\n",
    "    ax.plot((x_min, x_max), (yi, yi), color=(1.0, 0.8, 0.8))\n",
    "    \n",
    "for x_T in x_T_levels:\n",
    "    ax.plot(x_T, y_all_p, color=(1.0,0.5, 0.5))\n",
    "    \n",
    "for x_theta in x_thetas:\n",
    "    ax.plot(x_theta, y_all_p, color=(1.0, 0.7, 0.7))\n",
    "    \n",
    "for x_mixing_ratio in x_mixing_ratios:\n",
    "    good = p_all >= 600 #restrict mixng ration lines to below 600 mb\n",
    "    ax.plot(x_mixing_ratio[good], y_all_p[good], color=(0.8, 0.8, 0.6))\n",
    "    \n",
    "def format_coord(x, y):\n",
    "    T, p= to_thermo(x, y)\n",
    "    return \"{0:5.1f} C, {1:5.1f} mb\".format(float(T), float(p))\n",
    "\n",
    "ax.format_coord = format_coord\n",
    "    \n",
    "n_moist = len(theta_ep_levels)\n",
    "moist_colors= ((0.6,0.9,0.7),)*n_moist\n",
    "ax.contour(x_from_Tp(mesh_T+C_to_K, mesh_p), y_from_p(mesh_p), theta_ep_mesh, theta_ep_levels, colors=moist_colors)\n",
    "\n",
    "#your code for plotting theta_e (reversible)\n",
    "\n",
    "ax.axis((x_min, x_max, y_min, y_max))\n",
    "\n",
    "plt.show()"
   ]
  },
  {
   "cell_type": "code",
   "execution_count": 32,
   "metadata": {},
   "outputs": [
    {
     "name": "stdout",
     "output_type": "stream",
     "text": [
      "('SVP_T=', 10)\n",
      "('sat_mix=', 0.0096898827544806762)\n"
     ]
    }
   ],
   "source": [
    "print(\"sat_mix=\", Bolton.sat_mixing_ratio(800, 10))"
   ]
  },
  {
   "cell_type": "code",
   "execution_count": 33,
   "metadata": {
    "collapsed": true
   },
   "outputs": [],
   "source": [
    "import readsoundings"
   ]
  },
  {
   "cell_type": "code",
   "execution_count": 34,
   "metadata": {},
   "outputs": [
    {
     "ename": "IOError",
     "evalue": "/Users/cecekelley/Desktop/Sounding_for_CP_Project.txt not found.",
     "output_type": "error",
     "traceback": [
      "\u001b[0;31m---------------------------------------------------------------------------\u001b[0m",
      "\u001b[0;31mIOError\u001b[0m                                   Traceback (most recent call last)",
      "\u001b[0;32m<ipython-input-34-2cbbe5518fc0>\u001b[0m in \u001b[0;36m<module>\u001b[0;34m()\u001b[0m\n\u001b[1;32m      1\u001b[0m \u001b[0msounding\u001b[0m \u001b[0;34m=\u001b[0m \u001b[0;34m\"/Users/cecekelley/Desktop/Sounding_for_CP_Project.txt\"\u001b[0m\u001b[0;34m\u001b[0m\u001b[0m\n\u001b[0;32m----> 2\u001b[0;31m \u001b[0msounding_data\u001b[0m\u001b[0;34m=\u001b[0m \u001b[0mreadsoundings\u001b[0m\u001b[0;34m.\u001b[0m\u001b[0mparse_SPC\u001b[0m\u001b[0;34m(\u001b[0m\u001b[0msounding\u001b[0m\u001b[0;34m)\u001b[0m\u001b[0;34m\u001b[0m\u001b[0m\n\u001b[0m",
      "\u001b[0;32m/Users/ebruning/Dropbox/Classes/ATMO_5321_Cloud Physics/Fall 2018/StudentSkewT/kelley/readsoundings.py\u001b[0m in \u001b[0;36mparse_SPC\u001b[0;34m(filename, skip_rows)\u001b[0m\n\u001b[1;32m      9\u001b[0m              \u001b[0;34m(\u001b[0m\u001b[0;34m'wind_spd'\u001b[0m\u001b[0;34m,\u001b[0m \u001b[0mfloat\u001b[0m\u001b[0;34m)\u001b[0m\u001b[0;34m,\u001b[0m \u001b[0;31m#wind speed, knots\u001b[0m\u001b[0;34m\u001b[0m\u001b[0m\n\u001b[1;32m     10\u001b[0m            ]\n\u001b[0;32m---> 11\u001b[0;31m     \u001b[0mdata\u001b[0m \u001b[0;34m=\u001b[0m \u001b[0mnp\u001b[0m\u001b[0;34m.\u001b[0m\u001b[0mgenfromtxt\u001b[0m\u001b[0;34m(\u001b[0m\u001b[0mfilename\u001b[0m\u001b[0;34m,\u001b[0m \u001b[0mdtype\u001b[0m\u001b[0;34m=\u001b[0m\u001b[0mdtype\u001b[0m\u001b[0;34m,\u001b[0m \u001b[0mskip_header\u001b[0m\u001b[0;34m=\u001b[0m\u001b[0mskip_rows\u001b[0m\u001b[0;34m,\u001b[0m \u001b[0mdelimiter\u001b[0m\u001b[0;34m=\u001b[0m\u001b[0;34m','\u001b[0m\u001b[0;34m)\u001b[0m\u001b[0;34m\u001b[0m\u001b[0m\n\u001b[0m\u001b[1;32m     12\u001b[0m     \u001b[0;32mreturn\u001b[0m \u001b[0;34m(\u001b[0m\u001b[0mdata\u001b[0m\u001b[0;34m)\u001b[0m\u001b[0;34m\u001b[0m\u001b[0m\n",
      "\u001b[0;32m/Users/ebruning/anaconda/lib/python2.7/site-packages/numpy/lib/npyio.pyc\u001b[0m in \u001b[0;36mgenfromtxt\u001b[0;34m(fname, dtype, comments, delimiter, skip_header, skip_footer, converters, missing_values, filling_values, usecols, names, excludelist, deletechars, replace_space, autostrip, case_sensitive, defaultfmt, unpack, usemask, loose, invalid_raise, max_rows)\u001b[0m\n\u001b[1;32m   1446\u001b[0m         \u001b[0;32mif\u001b[0m \u001b[0misinstance\u001b[0m\u001b[0;34m(\u001b[0m\u001b[0mfname\u001b[0m\u001b[0;34m,\u001b[0m \u001b[0mbasestring\u001b[0m\u001b[0;34m)\u001b[0m\u001b[0;34m:\u001b[0m\u001b[0;34m\u001b[0m\u001b[0m\n\u001b[1;32m   1447\u001b[0m             \u001b[0;32mif\u001b[0m \u001b[0msys\u001b[0m\u001b[0;34m.\u001b[0m\u001b[0mversion_info\u001b[0m\u001b[0;34m[\u001b[0m\u001b[0;36m0\u001b[0m\u001b[0;34m]\u001b[0m \u001b[0;34m==\u001b[0m \u001b[0;36m2\u001b[0m\u001b[0;34m:\u001b[0m\u001b[0;34m\u001b[0m\u001b[0m\n\u001b[0;32m-> 1448\u001b[0;31m                 \u001b[0mfhd\u001b[0m \u001b[0;34m=\u001b[0m \u001b[0miter\u001b[0m\u001b[0;34m(\u001b[0m\u001b[0mnp\u001b[0m\u001b[0;34m.\u001b[0m\u001b[0mlib\u001b[0m\u001b[0;34m.\u001b[0m\u001b[0m_datasource\u001b[0m\u001b[0;34m.\u001b[0m\u001b[0mopen\u001b[0m\u001b[0;34m(\u001b[0m\u001b[0mfname\u001b[0m\u001b[0;34m,\u001b[0m \u001b[0;34m'rbU'\u001b[0m\u001b[0;34m)\u001b[0m\u001b[0;34m)\u001b[0m\u001b[0;34m\u001b[0m\u001b[0m\n\u001b[0m\u001b[1;32m   1449\u001b[0m             \u001b[0;32melse\u001b[0m\u001b[0;34m:\u001b[0m\u001b[0;34m\u001b[0m\u001b[0m\n\u001b[1;32m   1450\u001b[0m                 \u001b[0mfhd\u001b[0m \u001b[0;34m=\u001b[0m \u001b[0miter\u001b[0m\u001b[0;34m(\u001b[0m\u001b[0mnp\u001b[0m\u001b[0;34m.\u001b[0m\u001b[0mlib\u001b[0m\u001b[0;34m.\u001b[0m\u001b[0m_datasource\u001b[0m\u001b[0;34m.\u001b[0m\u001b[0mopen\u001b[0m\u001b[0;34m(\u001b[0m\u001b[0mfname\u001b[0m\u001b[0;34m,\u001b[0m \u001b[0;34m'rb'\u001b[0m\u001b[0;34m)\u001b[0m\u001b[0;34m)\u001b[0m\u001b[0;34m\u001b[0m\u001b[0m\n",
      "\u001b[0;32m/Users/ebruning/anaconda/lib/python2.7/site-packages/numpy/lib/_datasource.pyc\u001b[0m in \u001b[0;36mopen\u001b[0;34m(path, mode, destpath)\u001b[0m\n\u001b[1;32m    149\u001b[0m \u001b[0;34m\u001b[0m\u001b[0m\n\u001b[1;32m    150\u001b[0m     \u001b[0mds\u001b[0m \u001b[0;34m=\u001b[0m \u001b[0mDataSource\u001b[0m\u001b[0;34m(\u001b[0m\u001b[0mdestpath\u001b[0m\u001b[0;34m)\u001b[0m\u001b[0;34m\u001b[0m\u001b[0m\n\u001b[0;32m--> 151\u001b[0;31m     \u001b[0;32mreturn\u001b[0m \u001b[0mds\u001b[0m\u001b[0;34m.\u001b[0m\u001b[0mopen\u001b[0m\u001b[0;34m(\u001b[0m\u001b[0mpath\u001b[0m\u001b[0;34m,\u001b[0m \u001b[0mmode\u001b[0m\u001b[0;34m)\u001b[0m\u001b[0;34m\u001b[0m\u001b[0m\n\u001b[0m\u001b[1;32m    152\u001b[0m \u001b[0;34m\u001b[0m\u001b[0m\n\u001b[1;32m    153\u001b[0m \u001b[0;34m\u001b[0m\u001b[0m\n",
      "\u001b[0;32m/Users/ebruning/anaconda/lib/python2.7/site-packages/numpy/lib/_datasource.pyc\u001b[0m in \u001b[0;36mopen\u001b[0;34m(self, path, mode)\u001b[0m\n\u001b[1;32m    499\u001b[0m             \u001b[0;32mreturn\u001b[0m \u001b[0m_file_openers\u001b[0m\u001b[0;34m[\u001b[0m\u001b[0mext\u001b[0m\u001b[0;34m]\u001b[0m\u001b[0;34m(\u001b[0m\u001b[0mfound\u001b[0m\u001b[0;34m,\u001b[0m \u001b[0mmode\u001b[0m\u001b[0;34m=\u001b[0m\u001b[0mmode\u001b[0m\u001b[0;34m)\u001b[0m\u001b[0;34m\u001b[0m\u001b[0m\n\u001b[1;32m    500\u001b[0m         \u001b[0;32melse\u001b[0m\u001b[0;34m:\u001b[0m\u001b[0;34m\u001b[0m\u001b[0m\n\u001b[0;32m--> 501\u001b[0;31m             \u001b[0;32mraise\u001b[0m \u001b[0mIOError\u001b[0m\u001b[0;34m(\u001b[0m\u001b[0;34m\"%s not found.\"\u001b[0m \u001b[0;34m%\u001b[0m \u001b[0mpath\u001b[0m\u001b[0;34m)\u001b[0m\u001b[0;34m\u001b[0m\u001b[0m\n\u001b[0m\u001b[1;32m    502\u001b[0m \u001b[0;34m\u001b[0m\u001b[0m\n\u001b[1;32m    503\u001b[0m \u001b[0;34m\u001b[0m\u001b[0m\n",
      "\u001b[0;31mIOError\u001b[0m: /Users/cecekelley/Desktop/Sounding_for_CP_Project.txt not found."
     ]
    }
   ],
   "source": [
    "sounding = \"/Users/cecekelley/Desktop/Sounding_for_CP_Project.txt\"\n",
    "sounding_data= readsoundings.parse_SPC(sounding)"
   ]
  },
  {
   "cell_type": "code",
   "execution_count": null,
   "metadata": {
    "collapsed": true
   },
   "outputs": [],
   "source": [
    "snd_T= sounding_data['T']\n",
    "#all temperature values, deg C, should be in this range.\n",
    "good_T = (snd_T > -100.0) & (snd_T < 60.0)"
   ]
  },
  {
   "cell_type": "code",
   "execution_count": 35,
   "metadata": {},
   "outputs": [
    {
     "ename": "NameError",
     "evalue": "name 'sounding_data' is not defined",
     "output_type": "error",
     "traceback": [
      "\u001b[0;31m---------------------------------------------------------------------------\u001b[0m",
      "\u001b[0;31mNameError\u001b[0m                                 Traceback (most recent call last)",
      "\u001b[0;32m<ipython-input-35-29ad9d248ddd>\u001b[0m in \u001b[0;36m<module>\u001b[0;34m()\u001b[0m\n\u001b[0;32m----> 1\u001b[0;31m \u001b[0msnd_p\u001b[0m\u001b[0;34m=\u001b[0m \u001b[0msounding_data\u001b[0m\u001b[0;34m[\u001b[0m\u001b[0;34m'p'\u001b[0m\u001b[0;34m]\u001b[0m\u001b[0;34m\u001b[0m\u001b[0m\n\u001b[0m\u001b[1;32m      2\u001b[0m \u001b[0;31m#all pressure calues, mb, should be in this range\u001b[0m\u001b[0;34m\u001b[0m\u001b[0;34m\u001b[0m\u001b[0m\n\u001b[1;32m      3\u001b[0m \u001b[0mgood_p\u001b[0m\u001b[0;34m=\u001b[0m \u001b[0;34m(\u001b[0m\u001b[0msnd_p\u001b[0m \u001b[0;34m<\u001b[0m \u001b[0;36m918\u001b[0m\u001b[0;34m)\u001b[0m \u001b[0;34m&\u001b[0m \u001b[0;34m(\u001b[0m\u001b[0msnd_p\u001b[0m \u001b[0;34m>\u001b[0m \u001b[0;36m0\u001b[0m\u001b[0;34m)\u001b[0m\u001b[0;34m\u001b[0m\u001b[0m\n",
      "\u001b[0;31mNameError\u001b[0m: name 'sounding_data' is not defined"
     ]
    }
   ],
   "source": [
    "snd_p= sounding_data['p']\n",
    "#all pressure calues, mb, should be in this range\n",
    "good_p= (snd_p < 918) & (snd_p > 0)"
   ]
  },
  {
   "cell_type": "code",
   "execution_count": 36,
   "metadata": {},
   "outputs": [
    {
     "ename": "NameError",
     "evalue": "name 'sounding_data' is not defined",
     "output_type": "error",
     "traceback": [
      "\u001b[0;31m---------------------------------------------------------------------------\u001b[0m",
      "\u001b[0;31mNameError\u001b[0m                                 Traceback (most recent call last)",
      "\u001b[0;32m<ipython-input-36-b26f56f74650>\u001b[0m in \u001b[0;36m<module>\u001b[0;34m()\u001b[0m\n\u001b[0;32m----> 1\u001b[0;31m \u001b[0msnd_Td\u001b[0m\u001b[0;34m=\u001b[0m \u001b[0msounding_data\u001b[0m\u001b[0;34m[\u001b[0m\u001b[0;34m'Td'\u001b[0m\u001b[0;34m]\u001b[0m\u001b[0;34m\u001b[0m\u001b[0m\n\u001b[0m\u001b[1;32m      2\u001b[0m \u001b[0;31m#all dewpoint values, deg C, should be in this range\u001b[0m\u001b[0;34m\u001b[0m\u001b[0;34m\u001b[0m\u001b[0m\n\u001b[1;32m      3\u001b[0m \u001b[0mgood_Td\u001b[0m\u001b[0;34m=\u001b[0m \u001b[0;34m(\u001b[0m\u001b[0msnd_Td\u001b[0m \u001b[0;34m>\u001b[0m \u001b[0;34m-\u001b[0m\u001b[0;36m100.0\u001b[0m\u001b[0;34m)\u001b[0m \u001b[0;34m&\u001b[0m \u001b[0;34m(\u001b[0m\u001b[0msnd_Td\u001b[0m \u001b[0;34m<\u001b[0m \u001b[0;36m60.0\u001b[0m\u001b[0;34m)\u001b[0m\u001b[0;34m\u001b[0m\u001b[0m\n",
      "\u001b[0;31mNameError\u001b[0m: name 'sounding_data' is not defined"
     ]
    }
   ],
   "source": [
    "snd_Td= sounding_data['Td']\n",
    "#all dewpoint values, deg C, should be in this range\n",
    "good_Td= (snd_Td > -100.0) & (snd_Td < 60.0)"
   ]
  },
  {
   "cell_type": "code",
   "execution_count": 36,
   "metadata": {
    "collapsed": true
   },
   "outputs": [],
   "source": [
    "x_snd_T, y_snd_p=from_thermo(snd_T[good_T], snd_p[good_p])\n",
    "x_snd_Td, y_snd_p= from_thermo(snd_Td[good_Td], snd_p[good_p])"
   ]
  },
  {
   "cell_type": "code",
   "execution_count": 38,
   "metadata": {},
   "outputs": [
    {
     "name": "stderr",
     "output_type": "stream",
     "text": [
      "/Users/ebruning/anaconda/lib/python2.7/site-packages/ipykernel/__main__.py:3: RuntimeWarning: divide by zero encountered in log\n",
      "  app.launch_new_instance()\n"
     ]
    }
   ],
   "source": [
    "fig= plt.figure(figsize=(10,8))\n",
    "ax= Subplot(fig, 1, 1, 1, grid_helper=skew_grid_helper)\n",
    "fig.add_subplot(ax)\n",
    "\n",
    "for yi in y_p_levels:\n",
    "    ax.plot((x_min, x_max), (yi, yi), color=(1.0, 0.8, 0.8))\n",
    "    \n",
    "for x_T in x_T_levels:\n",
    "    ax.plot(x_T, y_all_p, color=(1.0,0.5, 0.5))\n",
    "    \n",
    "for x_theta in x_thetas:\n",
    "    ax.plot(x_theta, y_all_p, color=(1.0, 0.7, 0.7))\n",
    "    \n",
    "for x_mixing_ratio in x_mixing_ratios:\n",
    "    good = p_all >= 600 #restrict mixng ration lines to below 600 mb\n",
    "    ax.plot(x_mixing_ratio[good], y_all_p[good], color=(0.8, 0.8, 0.6))\n",
    "    \n",
    "def format_coord(x, y):\n",
    "    T, p= to_thermo(x, y)\n",
    "    return \"{0:5.1f} C, {1:5.1f} mb\".format(float(T), float(p))\n",
    "\n",
    "ax.format_coord = format_coord\n",
    "\n",
    "# ax.plot(x_snd_Td, y_snd_p, linewidth=2, color='g')\n",
    "# ax.plot(x_snd_T, y_snd_p, linewidth=2, color='r')\n",
    "    \n",
    "n_moist = len(theta_ep_levels)\n",
    "moist_colors= ((0.6,0.9,0.7),)*n_moist\n",
    "ax.contour(x_from_Tp(mesh_T+C_to_K, mesh_p), y_from_p(mesh_p), theta_ep_mesh, theta_ep_levels, colors=moist_colors)\n",
    "\n",
    "E_lines = len(theta_e_levels)\n",
    "theta_e_colors = ((0.4, 0.4, 0.4),)*E_lines\n",
    "ax.contour(x_from_Tp(mesh_T+C_to_K, mesh_p), y_from_p(mesh_p), theta_mesh, theta_e_levels, colors=theta_e_colors)\n",
    "\n",
    "ax.axis((x_min, x_max, y_min, y_max))\n",
    "\n",
    "plt.show()\n",
    "\n",
    "\n",
    "# ax.plot(x_snd_Td, y_snd_p, linewidth=2, color='g')\n",
    "# ax.plot(x_snd_T, y_snd_p, linewidth=2, color='r')\n",
    "# plt.show()\n",
    "plt.savefig('kelley.png')"
   ]
  },
  {
   "cell_type": "code",
   "execution_count": null,
   "metadata": {
    "collapsed": true
   },
   "outputs": [],
   "source": []
  },
  {
   "cell_type": "code",
   "execution_count": null,
   "metadata": {
    "collapsed": true
   },
   "outputs": [],
   "source": []
  }
 ],
 "metadata": {
  "kernelspec": {
   "display_name": "Python [Root]",
   "language": "python",
   "name": "Python [Root]"
  },
  "language_info": {
   "codemirror_mode": {
    "name": "ipython",
    "version": 2
   },
   "file_extension": ".py",
   "mimetype": "text/x-python",
   "name": "python",
   "nbconvert_exporter": "python",
   "pygments_lexer": "ipython2",
   "version": "2.7.12"
  }
 },
 "nbformat": 4,
 "nbformat_minor": 2
}
