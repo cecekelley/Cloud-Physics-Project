{
 "cells": [
  {
   "cell_type": "code",
   "execution_count": 1,
   "metadata": {},
   "outputs": [],
   "source": [
    "import numpy as np\n",
    "import matplotlib.pyplot as plt\n",
    "%matplotlib inline\n",
    "from mpl_toolkits.axisartist import Subplot\n",
    "from matplotlib.ticker import FuncFormatter, Formatter\n",
    "from mpl_toolkits.axisartist.grid_helper_curvelinear import GridHelperCurveLinear\n",
    "C_to_K = 273.15\n",
    "skew_slope = 40"
   ]
  },
  {
   "cell_type": "code",
   "execution_count": 2,
   "metadata": {},
   "outputs": [],
   "source": [
    "def x_from_Tp(T,p):\n",
    "    x_from_Tp = T + (skew_slope*y_from_p(p))\n",
    "    return(x_from_Tp)"
   ]
  },
  {
   "cell_type": "code",
   "execution_count": 3,
   "metadata": {},
   "outputs": [],
   "source": [
    "def y_from_p(p):\n",
    "    y_from_p = - np.log(p)\n",
    "    return(y_from_p)"
   ]
  },
  {
   "cell_type": "code",
   "execution_count": 4,
   "metadata": {},
   "outputs": [],
   "source": [
    "def T_from_xp(x,p):\n",
    "    T_from_xp = x+(skew_slope*np.log(p))\n",
    "    return(T_from_xp)"
   ]
  },
  {
   "cell_type": "code",
   "execution_count": 5,
   "metadata": {},
   "outputs": [],
   "source": [
    "def p_from_y(y):\n",
    "    p_from_y = np.exp(-y)\n",
    "    return(p_from_y)"
   ]
  },
  {
   "cell_type": "code",
   "execution_count": 6,
   "metadata": {},
   "outputs": [],
   "source": [
    "def to_thermo(x,y):\n",
    "    \"\"\"Transform (x,y) coordinates to T in degrees celsius and p in mb.\"\"\"\n",
    "    p = p_from_y(y)\n",
    "    T_C = T_from_xp(x,p) - C_to_K\n",
    "    return T_C , p"
   ]
  },
  {
   "cell_type": "code",
   "execution_count": 7,
   "metadata": {},
   "outputs": [],
   "source": [
    "def from_thermo(T_C, p):\n",
    "    \"\"\"Transform T_C (in degress celsius) and p (in mb) to (x,y).\"\"\"\n",
    "    y= y_from_p(p)\n",
    "    x= x_from_Tp(T_C + C_to_K, p)\n",
    "    return x, y"
   ]
  },
  {
   "cell_type": "code",
   "execution_count": 8,
   "metadata": {},
   "outputs": [],
   "source": [
    "#values along the bottom and left edges\n",
    "p_bottom = 1050.0\n",
    "p_top =150\n",
    "T_min = -40 + C_to_K\n",
    "T_max = 50 + C_to_K"
   ]
  },
  {
   "cell_type": "code",
   "execution_count": 9,
   "metadata": {},
   "outputs": [
    {
     "name": "stdout",
     "output_type": "stream",
     "text": [
      "-45.11181772606278\n"
     ]
    }
   ],
   "source": [
    "x_min=x_from_Tp(T_min,p_bottom)\n",
    "print(x_min)\n",
    "    "
   ]
  },
  {
   "cell_type": "code",
   "execution_count": 10,
   "metadata": {},
   "outputs": [
    {
     "name": "stdout",
     "output_type": "stream",
     "text": [
      "122.72458823614977\n"
     ]
    }
   ],
   "source": [
    "x_max=x_from_Tp(T_max,p_top)\n",
    "print(x_max)"
   ]
  },
  {
   "cell_type": "code",
   "execution_count": 11,
   "metadata": {},
   "outputs": [
    {
     "name": "stdout",
     "output_type": "stream",
     "text": [
      "-6.956545443151569\n"
     ]
    }
   ],
   "source": [
    "y_min=y_from_p(p_bottom)\n",
    "print(y_min)"
   ]
  },
  {
   "cell_type": "code",
   "execution_count": 12,
   "metadata": {},
   "outputs": [
    {
     "name": "stdout",
     "output_type": "stream",
     "text": [
      "-5.0106352940962555\n"
     ]
    }
   ],
   "source": [
    "y_max=y_from_p(p_top)\n",
    "print(y_max)"
   ]
  },
  {
   "cell_type": "code",
   "execution_count": 33,
   "metadata": {},
   "outputs": [
    {
     "name": "stdout",
     "output_type": "stream",
     "text": [
      "[1000  950  900  850  800  750  700  650  600  550  500  450  400  350\n",
      "  300  250  200  150]\n"
     ]
    }
   ],
   "source": [
    "p_levels= np.arange(1000, 100, -50)\n",
    "T_C_levels= np.arange(-80, 40-10, -10)\n",
    "print (p_levels)"
   ]
  },
  {
   "cell_type": "code",
   "execution_count": 14,
   "metadata": {},
   "outputs": [
    {
     "name": "stdout",
     "output_type": "stream",
     "text": [
      "[193.15 203.15 213.15 223.15 233.15 243.15 253.15 263.15 273.15 283.15\n",
      " 293.15]\n"
     ]
    }
   ],
   "source": [
    "T_levels= np.arange(-80 + C_to_K, 40 + C_to_K-10, 10)\n",
    "print(T_levels)"
   ]
  },
  {
   "cell_type": "code",
   "execution_count": 15,
   "metadata": {},
   "outputs": [
    {
     "name": "stdout",
     "output_type": "stream",
     "text": [
      "[233.15 243.15 253.15 263.15 273.15 283.15 293.15 303.15 313.15 323.15\n",
      " 333.15 343.15 353.15]\n"
     ]
    }
   ],
   "source": [
    "theta_levels= np.arange(-40 + C_to_K, 100 + C_to_K-10, 10)\n",
    "print(theta_levels)"
   ]
  },
  {
   "cell_type": "code",
   "execution_count": 16,
   "metadata": {},
   "outputs": [],
   "source": [
    "theta_ep_levels = theta_levels.copy()"
   ]
  },
  {
   "cell_type": "code",
   "execution_count": 17,
   "metadata": {},
   "outputs": [],
   "source": [
    "mixing_ratios= np.asarray([0.0004, 0.001, 0.002, 0.003, 0.005, 0.008, 0.012, 0.016, 0.02])"
   ]
  },
  {
   "cell_type": "code",
   "execution_count": 18,
   "metadata": {},
   "outputs": [
    {
     "name": "stdout",
     "output_type": "stream",
     "text": [
      "14.99475874102182\n"
     ]
    }
   ],
   "source": [
    "import Bolton"
   ]
  },
  {
   "cell_type": "code",
   "execution_count": 19,
   "metadata": {},
   "outputs": [
    {
     "name": "stdout",
     "output_type": "stream",
     "text": [
      "[1050. 1049. 1048. 1047. 1046. 1045. 1044. 1043. 1042. 1041. 1040. 1039.\n",
      " 1038. 1037. 1036. 1035. 1034. 1033. 1032. 1031. 1030. 1029. 1028. 1027.\n",
      " 1026. 1025. 1024. 1023. 1022. 1021. 1020. 1019. 1018. 1017. 1016. 1015.\n",
      " 1014. 1013. 1012. 1011. 1010. 1009. 1008. 1007. 1006. 1005. 1004. 1003.\n",
      " 1002. 1001. 1000.  999.  998.  997.  996.  995.  994.  993.  992.  991.\n",
      "  990.  989.  988.  987.  986.  985.  984.  983.  982.  981.  980.  979.\n",
      "  978.  977.  976.  975.  974.  973.  972.  971.  970.  969.  968.  967.\n",
      "  966.  965.  964.  963.  962.  961.  960.  959.  958.  957.  956.  955.\n",
      "  954.  953.  952.  951.  950.  949.  948.  947.  946.  945.  944.  943.\n",
      "  942.  941.  940.  939.  938.  937.  936.  935.  934.  933.  932.  931.\n",
      "  930.  929.  928.  927.  926.  925.  924.  923.  922.  921.  920.  919.\n",
      "  918.  917.  916.  915.  914.  913.  912.  911.  910.  909.  908.  907.\n",
      "  906.  905.  904.  903.  902.  901.  900.  899.  898.  897.  896.  895.\n",
      "  894.  893.  892.  891.  890.  889.  888.  887.  886.  885.  884.  883.\n",
      "  882.  881.  880.  879.  878.  877.  876.  875.  874.  873.  872.  871.\n",
      "  870.  869.  868.  867.  866.  865.  864.  863.  862.  861.  860.  859.\n",
      "  858.  857.  856.  855.  854.  853.  852.  851.  850.  849.  848.  847.\n",
      "  846.  845.  844.  843.  842.  841.  840.  839.  838.  837.  836.  835.\n",
      "  834.  833.  832.  831.  830.  829.  828.  827.  826.  825.  824.  823.\n",
      "  822.  821.  820.  819.  818.  817.  816.  815.  814.  813.  812.  811.\n",
      "  810.  809.  808.  807.  806.  805.  804.  803.  802.  801.  800.  799.\n",
      "  798.  797.  796.  795.  794.  793.  792.  791.  790.  789.  788.  787.\n",
      "  786.  785.  784.  783.  782.  781.  780.  779.  778.  777.  776.  775.\n",
      "  774.  773.  772.  771.  770.  769.  768.  767.  766.  765.  764.  763.\n",
      "  762.  761.  760.  759.  758.  757.  756.  755.  754.  753.  752.  751.\n",
      "  750.  749.  748.  747.  746.  745.  744.  743.  742.  741.  740.  739.\n",
      "  738.  737.  736.  735.  734.  733.  732.  731.  730.  729.  728.  727.\n",
      "  726.  725.  724.  723.  722.  721.  720.  719.  718.  717.  716.  715.\n",
      "  714.  713.  712.  711.  710.  709.  708.  707.  706.  705.  704.  703.\n",
      "  702.  701.  700.  699.  698.  697.  696.  695.  694.  693.  692.  691.\n",
      "  690.  689.  688.  687.  686.  685.  684.  683.  682.  681.  680.  679.\n",
      "  678.  677.  676.  675.  674.  673.  672.  671.  670.  669.  668.  667.\n",
      "  666.  665.  664.  663.  662.  661.  660.  659.  658.  657.  656.  655.\n",
      "  654.  653.  652.  651.  650.  649.  648.  647.  646.  645.  644.  643.\n",
      "  642.  641.  640.  639.  638.  637.  636.  635.  634.  633.  632.  631.\n",
      "  630.  629.  628.  627.  626.  625.  624.  623.  622.  621.  620.  619.\n",
      "  618.  617.  616.  615.  614.  613.  612.  611.  610.  609.  608.  607.\n",
      "  606.  605.  604.  603.  602.  601.  600.  599.  598.  597.  596.  595.\n",
      "  594.  593.  592.  591.  590.  589.  588.  587.  586.  585.  584.  583.\n",
      "  582.  581.  580.  579.  578.  577.  576.  575.  574.  573.  572.  571.\n",
      "  570.  569.  568.  567.  566.  565.  564.  563.  562.  561.  560.  559.\n",
      "  558.  557.  556.  555.  554.  553.  552.  551.  550.  549.  548.  547.\n",
      "  546.  545.  544.  543.  542.  541.  540.  539.  538.  537.  536.  535.\n",
      "  534.  533.  532.  531.  530.  529.  528.  527.  526.  525.  524.  523.\n",
      "  522.  521.  520.  519.  518.  517.  516.  515.  514.  513.  512.  511.\n",
      "  510.  509.  508.  507.  506.  505.  504.  503.  502.  501.  500.  499.\n",
      "  498.  497.  496.  495.  494.  493.  492.  491.  490.  489.  488.  487.\n",
      "  486.  485.  484.  483.  482.  481.  480.  479.  478.  477.  476.  475.\n",
      "  474.  473.  472.  471.  470.  469.  468.  467.  466.  465.  464.  463.\n",
      "  462.  461.  460.  459.  458.  457.  456.  455.  454.  453.  452.  451.\n",
      "  450.  449.  448.  447.  446.  445.  444.  443.  442.  441.  440.  439.\n",
      "  438.  437.  436.  435.  434.  433.  432.  431.  430.  429.  428.  427.\n",
      "  426.  425.  424.  423.  422.  421.  420.  419.  418.  417.  416.  415.\n",
      "  414.  413.  412.  411.  410.  409.  408.  407.  406.  405.  404.  403.\n",
      "  402.  401.  400.  399.  398.  397.  396.  395.  394.  393.  392.  391.\n",
      "  390.  389.  388.  387.  386.  385.  384.  383.  382.  381.  380.  379.\n",
      "  378.  377.  376.  375.  374.  373.  372.  371.  370.  369.  368.  367.\n",
      "  366.  365.  364.  363.  362.  361.  360.  359.  358.  357.  356.  355.\n",
      "  354.  353.  352.  351.  350.  349.  348.  347.  346.  345.  344.  343.\n",
      "  342.  341.  340.  339.  338.  337.  336.  335.  334.  333.  332.  331.\n",
      "  330.  329.  328.  327.  326.  325.  324.  323.  322.  321.  320.  319.\n",
      "  318.  317.  316.  315.  314.  313.  312.  311.  310.  309.  308.  307.\n",
      "  306.  305.  304.  303.  302.  301.  300.  299.  298.  297.  296.  295.\n",
      "  294.  293.  292.  291.  290.  289.  288.  287.  286.  285.  284.  283.\n",
      "  282.  281.  280.  279.  278.  277.  276.  275.  274.  273.  272.  271.\n",
      "  270.  269.  268.  267.  266.  265.  264.  263.  262.  261.  260.  259.\n",
      "  258.  257.  256.  255.  254.  253.  252.  251.  250.  249.  248.  247.\n",
      "  246.  245.  244.  243.  242.  241.  240.  239.  238.  237.  236.  235.\n",
      "  234.  233.  232.  231.  230.  229.  228.  227.  226.  225.  224.  223.\n",
      "  222.  221.  220.  219.  218.  217.  216.  215.  214.  213.  212.  211.\n",
      "  210.  209.  208.  207.  206.  205.  204.  203.  202.  201.  200.  199.\n",
      "  198.  197.  196.  195.  194.  193.  192.  191.  190.  189.  188.  187.\n",
      "  186.  185.  184.  183.  182.  181.  180.  179.  178.  177.  176.  175.\n",
      "  174.  173.  172.  171.  170.  169.  168.  167.  166.  165.  164.  163.\n",
      "  162.  161.  160.  159.  158.  157.  156.  155.  154.  153.  152.  151.\n",
      "  150.]\n"
     ]
    }
   ],
   "source": [
    "p_all= np.arange(p_bottom, p_top-1, -1)\n",
    "print(p_all)"
   ]
  },
  {
   "cell_type": "code",
   "execution_count": 20,
   "metadata": {},
   "outputs": [
    {
     "name": "stdout",
     "output_type": "stream",
     "text": [
      "[-6.90775528 -6.85646198 -6.80239476 -6.74523635 -6.68461173 -6.62007321\n",
      " -6.55108034 -6.47697236 -6.39692966 -6.30991828 -6.2146081  -6.10924758\n",
      " -5.99146455 -5.85793315 -5.70378247 -5.52146092 -5.29831737 -5.01063529]\n"
     ]
    }
   ],
   "source": [
    "y_p_levels= y_from_p(p_levels)\n",
    "print (y_p_levels)"
   ]
  },
  {
   "cell_type": "code",
   "execution_count": 21,
   "metadata": {},
   "outputs": [
    {
     "name": "stdout",
     "output_type": "stream",
     "text": [
      "[-6.95654544 -6.95559261 -6.95463886 -6.95368421 -6.95272864 -6.95177216\n",
      " -6.95081477 -6.94985646 -6.94889722 -6.94793707 -6.94697599 -6.94601399\n",
      " -6.94505106 -6.94408721 -6.94312242 -6.94215671 -6.94119006 -6.94022247\n",
      " -6.93925395 -6.93828448 -6.93731408 -6.93634274 -6.93537045 -6.93439721\n",
      " -6.93342303 -6.93244789 -6.93147181 -6.93049477 -6.92951677 -6.92853782\n",
      " -6.92755791 -6.92657703 -6.9255952  -6.9246124  -6.92362863 -6.92264389\n",
      " -6.92165818 -6.9206715  -6.91968385 -6.91869522 -6.91770561 -6.91671502\n",
      " -6.91572345 -6.91473089 -6.91373735 -6.91274282 -6.9117473  -6.91075079\n",
      " -6.90975328 -6.90875478 -6.90775528 -6.90675478 -6.90575328 -6.90475077\n",
      " -6.90374726 -6.90274274 -6.90173721 -6.90073066 -6.89972311 -6.89871453\n",
      " -6.89770494 -6.89669433 -6.8956827  -6.89467004 -6.89365635 -6.89264164\n",
      " -6.8916259  -6.89060912 -6.88959131 -6.88857246 -6.88755257 -6.88653164\n",
      " -6.88550967 -6.88448665 -6.88346259 -6.88243747 -6.8814113  -6.88038408\n",
      " -6.8793558  -6.87832647 -6.87729607 -6.87626461 -6.87523209 -6.8741985\n",
      " -6.87316383 -6.8721281  -6.87109129 -6.87005341 -6.86901445 -6.86797441\n",
      " -6.86693328 -6.86589107 -6.86484778 -6.86380339 -6.86275791 -6.86171134\n",
      " -6.86066367 -6.8596149  -6.85856503 -6.85751406 -6.85646198 -6.8554088\n",
      " -6.8543545  -6.85329909 -6.85224257 -6.85118493 -6.85012617 -6.84906628\n",
      " -6.84800527 -6.84694314 -6.84587988 -6.84481548 -6.84374995 -6.84268328\n",
      " -6.84161548 -6.84054653 -6.83947644 -6.8384052  -6.83733281 -6.83625928\n",
      " -6.83518459 -6.83410874 -6.83303173 -6.83195357 -6.83087423 -6.82979374\n",
      " -6.82871207 -6.82762923 -6.82654522 -6.82546004 -6.82437367 -6.82328612\n",
      " -6.82219739 -6.82110747 -6.82001636 -6.81892407 -6.81783057 -6.81673588\n",
      " -6.81563999 -6.8145429  -6.8134446  -6.81234509 -6.81124438 -6.81014245\n",
      " -6.80903931 -6.80793494 -6.80682936 -6.80572255 -6.80461452 -6.80350526\n",
      " -6.80239476 -6.80128303 -6.80017007 -6.79905586 -6.79794041 -6.79682372\n",
      " -6.79570578 -6.79458658 -6.79346613 -6.79234443 -6.79122146 -6.79009724\n",
      " -6.78897174 -6.78784498 -6.78671695 -6.78558765 -6.78445706 -6.7833252\n",
      " -6.78219206 -6.78105763 -6.77992191 -6.7787849  -6.77764659 -6.77650699\n",
      " -6.77536609 -6.77422389 -6.77308038 -6.77193556 -6.77078942 -6.76964198\n",
      " -6.76849321 -6.76734313 -6.76619171 -6.76503898 -6.76388491 -6.76272951\n",
      " -6.76157277 -6.76041469 -6.75925527 -6.7580945  -6.75693239 -6.75576892\n",
      " -6.7546041  -6.75343792 -6.75227038 -6.75110147 -6.74993119 -6.74875955\n",
      " -6.74758653 -6.74641213 -6.74523635 -6.74405919 -6.74288064 -6.74170069\n",
      " -6.74051936 -6.73933663 -6.73815249 -6.73696696 -6.73578001 -6.73459166\n",
      " -6.73340189 -6.73221071 -6.7310181  -6.72982407 -6.72862861 -6.72743172\n",
      " -6.7262334  -6.72503364 -6.72383244 -6.72262979 -6.7214257  -6.72022016\n",
      " -6.71901315 -6.7178047  -6.71659477 -6.71538339 -6.71417053 -6.7129562\n",
      " -6.7117404  -6.71052311 -6.70930434 -6.70808408 -6.70686234 -6.70563909\n",
      " -6.70441435 -6.70318811 -6.70196037 -6.70073111 -6.69950034 -6.69826805\n",
      " -6.69703425 -6.69579892 -6.69456206 -6.69332367 -6.69208374 -6.69084228\n",
      " -6.68959927 -6.68835471 -6.68710861 -6.68586095 -6.68461173 -6.68336095\n",
      " -6.6821086  -6.68085468 -6.67959919 -6.67834211 -6.67708346 -6.67582322\n",
      " -6.67456139 -6.67329797 -6.67203295 -6.67076632 -6.66949809 -6.66822825\n",
      " -6.66695679 -6.66568372 -6.66440902 -6.6631327  -6.66185474 -6.66057515\n",
      " -6.65929392 -6.65801105 -6.65672652 -6.65544035 -6.65415252 -6.65286303\n",
      " -6.65157187 -6.65027905 -6.64898455 -6.64768837 -6.64639051 -6.64509097\n",
      " -6.64378973 -6.6424868  -6.64118217 -6.63987583 -6.63856779 -6.63725803\n",
      " -6.63594656 -6.63463336 -6.63331843 -6.63200178 -6.63068339 -6.62936325\n",
      " -6.62804138 -6.62671775 -6.62539237 -6.62406523 -6.62273632 -6.62140565\n",
      " -6.62007321 -6.61873898 -6.61740298 -6.61606519 -6.6147256  -6.61338422\n",
      " -6.61204103 -6.61069604 -6.60934924 -6.60800063 -6.60665019 -6.60529792\n",
      " -6.60394382 -6.60258789 -6.60123012 -6.5998705  -6.59850903 -6.5971457\n",
      " -6.59578051 -6.59441346 -6.59304453 -6.59167373 -6.59030105 -6.58892648\n",
      " -6.58755001 -6.58617165 -6.58479139 -6.58340922 -6.58202514 -6.58063914\n",
      " -6.57925121 -6.57786136 -6.57646957 -6.57507584 -6.57368017 -6.57228254\n",
      " -6.57088296 -6.56948142 -6.56807791 -6.56667243 -6.56526497 -6.56385553\n",
      " -6.56244409 -6.56103067 -6.55961524 -6.5581978  -6.55677836 -6.55535689\n",
      " -6.5539334  -6.55250789 -6.55108034 -6.54965074 -6.5482191  -6.54678541\n",
      " -6.54534966 -6.54391185 -6.54247196 -6.54103    -6.53958596 -6.53813982\n",
      " -6.5366916  -6.53524127 -6.53378884 -6.53233429 -6.53087763 -6.52941884\n",
      " -6.52795792 -6.52649486 -6.52502966 -6.52356231 -6.5220928  -6.52062113\n",
      " -6.51914729 -6.51767127 -6.51619308 -6.51471269 -6.51323011 -6.51174533\n",
      " -6.51025834 -6.50876914 -6.50727771 -6.50578406 -6.50428817 -6.50279005\n",
      " -6.50128967 -6.49978704 -6.49828215 -6.49677499 -6.49526556 -6.49375384\n",
      " -6.49223984 -6.49072353 -6.48920493 -6.48768402 -6.48616079 -6.48463524\n",
      " -6.48310735 -6.48157713 -6.48004456 -6.47850964 -6.47697236 -6.47543272\n",
      " -6.4738907  -6.47234629 -6.4707995  -6.46925032 -6.46769873 -6.46614472\n",
      " -6.4645883  -6.46302946 -6.46146818 -6.45990445 -6.45833828 -6.45676966\n",
      " -6.45519856 -6.453625   -6.45204895 -6.45047042 -6.44888939 -6.44730586\n",
      " -6.44571982 -6.44413126 -6.44254017 -6.44094654 -6.43935037 -6.43775165\n",
      " -6.43615037 -6.43454652 -6.43294009 -6.43133108 -6.42971948 -6.42810527\n",
      " -6.42648846 -6.42486902 -6.42324696 -6.42162227 -6.41999493 -6.41836494\n",
      " -6.41673228 -6.41509696 -6.41345896 -6.41181827 -6.41017488 -6.40852879\n",
      " -6.40687999 -6.40522846 -6.4035742  -6.4019172  -6.40025745 -6.39859493\n",
      " -6.39692966 -6.3952616  -6.39359075 -6.39191711 -6.39024067 -6.38856141\n",
      " -6.38687932 -6.3851944  -6.38350663 -6.38181602 -6.38012254 -6.37842618\n",
      " -6.37672695 -6.37502482 -6.37331979 -6.37161185 -6.36990098 -6.36818719\n",
      " -6.36647045 -6.36475076 -6.3630281  -6.36130248 -6.35957387 -6.35784227\n",
      " -6.35610766 -6.35437004 -6.3526294  -6.35088572 -6.34913899 -6.34738921\n",
      " -6.34563636 -6.34388043 -6.34212142 -6.3403593  -6.33859408 -6.33682573\n",
      " -6.33505425 -6.33327963 -6.33150185 -6.32972091 -6.32793678 -6.32614947\n",
      " -6.32435896 -6.32256524 -6.32076829 -6.31896811 -6.31716469 -6.315358\n",
      " -6.31354805 -6.31173481 -6.30991828 -6.30809844 -6.30627529 -6.3044488\n",
      " -6.30261898 -6.30078579 -6.29894925 -6.29710932 -6.295266   -6.29341928\n",
      " -6.29156914 -6.28971557 -6.28785856 -6.28599809 -6.28413416 -6.28226675\n",
      " -6.28039584 -6.27852142 -6.27664349 -6.27476202 -6.27287701 -6.27098843\n",
      " -6.26909628 -6.26720055 -6.26530121 -6.26339826 -6.26149168 -6.25958146\n",
      " -6.25766759 -6.25575004 -6.25382881 -6.25190388 -6.24997524 -6.24804287\n",
      " -6.24610677 -6.2441669  -6.24222327 -6.24027585 -6.23832463 -6.23636959\n",
      " -6.23441073 -6.23244802 -6.23048145 -6.228511   -6.22653667 -6.22455843\n",
      " -6.22257627 -6.22059017 -6.21860012 -6.2166061  -6.2146081  -6.2126061\n",
      " -6.21060008 -6.20859003 -6.20657593 -6.20455776 -6.20253552 -6.20050917\n",
      " -6.19847872 -6.19644413 -6.19440539 -6.19236249 -6.19031541 -6.18826412\n",
      " -6.18620862 -6.18414889 -6.18208491 -6.18001665 -6.17794411 -6.17586727\n",
      " -6.1737861  -6.1717006  -6.16961073 -6.16751649 -6.16541785 -6.1633148\n",
      " -6.16120732 -6.15909539 -6.15697899 -6.15485809 -6.15273269 -6.15060277\n",
      " -6.1484683  -6.14632926 -6.14418563 -6.14203741 -6.13988455 -6.13772705\n",
      " -6.13556489 -6.13339804 -6.13122649 -6.12905021 -6.12686918 -6.12468339\n",
      " -6.12249281 -6.12029742 -6.1180972  -6.11589213 -6.11368218 -6.11146734\n",
      " -6.10924758 -6.10702289 -6.10479323 -6.10255859 -6.10031895 -6.09807428\n",
      " -6.09582456 -6.09356977 -6.09130988 -6.08904488 -6.08677473 -6.08449941\n",
      " -6.08221891 -6.0799332  -6.07764224 -6.07534603 -6.07304453 -6.07073773\n",
      " -6.06842559 -6.06610809 -6.06378521 -6.06145692 -6.0591232  -6.05678401\n",
      " -6.05443935 -6.05208917 -6.04973346 -6.04737218 -6.04500531 -6.04263283\n",
      " -6.04025471 -6.03787092 -6.03548143 -6.03308622 -6.03068526 -6.02827852\n",
      " -6.02586597 -6.02344759 -6.02102335 -6.01859321 -6.01615716 -6.01371516\n",
      " -6.01126717 -6.00881319 -6.00635316 -6.00388707 -6.00141488 -5.99893656\n",
      " -5.99645209 -5.99396143 -5.99146455 -5.98896142 -5.98645201 -5.98393628\n",
      " -5.98141421 -5.97888576 -5.97635091 -5.97380961 -5.97126184 -5.96870756\n",
      " -5.96614674 -5.96357934 -5.96100534 -5.95842469 -5.95583737 -5.95324333\n",
      " -5.95064255 -5.94803499 -5.94542061 -5.94279938 -5.94017125 -5.93753621\n",
      " -5.9348942  -5.93224519 -5.92958914 -5.92692603 -5.9242558  -5.92157842\n",
      " -5.91889385 -5.91620206 -5.91350301 -5.91079664 -5.90808294 -5.90536185\n",
      " -5.90263333 -5.89989735 -5.89715387 -5.89440283 -5.89164421 -5.88887796\n",
      " -5.88610403 -5.88332239 -5.88053299 -5.87773578 -5.87493073 -5.87211779\n",
      " -5.86929691 -5.86646806 -5.86363118 -5.86078622 -5.85793315 -5.85507192\n",
      " -5.85220248 -5.84932478 -5.84643878 -5.84354442 -5.84064166 -5.83773045\n",
      " -5.83481074 -5.83188248 -5.82894562 -5.82600011 -5.8230459  -5.82008293\n",
      " -5.81711116 -5.81413053 -5.81114099 -5.80814249 -5.80513497 -5.80211838\n",
      " -5.79909265 -5.79605775 -5.79301361 -5.78996017 -5.78689738 -5.78382518\n",
      " -5.78074352 -5.77765232 -5.77455155 -5.77144112 -5.768321   -5.7651911\n",
      " -5.76205138 -5.75890177 -5.75574221 -5.75257264 -5.74939299 -5.74620319\n",
      " -5.74300319 -5.73979291 -5.7365723  -5.73334128 -5.73009978 -5.72684775\n",
      " -5.7235851  -5.72031178 -5.7170277  -5.71373281 -5.71042702 -5.70711026\n",
      " -5.70378247 -5.70044357 -5.69709349 -5.69373214 -5.69035945 -5.68697536\n",
      " -5.68357977 -5.68017261 -5.6767538  -5.67332327 -5.66988092 -5.66642669\n",
      " -5.66296048 -5.65948222 -5.65599181 -5.65248918 -5.64897424 -5.6454469\n",
      " -5.64190707 -5.63835467 -5.6347896  -5.63121178 -5.62762111 -5.62401751\n",
      " -5.62040087 -5.6167711  -5.61312811 -5.6094718  -5.60580207 -5.60211882\n",
      " -5.59842196 -5.59471138 -5.59098698 -5.58724866 -5.58349631 -5.57972983\n",
      " -5.5759491  -5.57215403 -5.5683445  -5.56452041 -5.56068163 -5.55682806\n",
      " -5.55295958 -5.54907608 -5.54517744 -5.54126355 -5.53733427 -5.53338949\n",
      " -5.52942909 -5.52545294 -5.52146092 -5.5174529  -5.51342875 -5.50938834\n",
      " -5.50533154 -5.50125821 -5.49716823 -5.49306144 -5.48893773 -5.48479693\n",
      " -5.48063892 -5.47646355 -5.47227067 -5.46806014 -5.46383181 -5.45958551\n",
      " -5.45532112 -5.45103845 -5.44673737 -5.44241771 -5.43807931 -5.433722\n",
      " -5.42934563 -5.42495002 -5.420535   -5.4161004  -5.41164605 -5.40717177\n",
      " -5.40267738 -5.3981627  -5.39362755 -5.38907173 -5.38449506 -5.37989735\n",
      " -5.37527841 -5.37063803 -5.36597602 -5.36129217 -5.35658627 -5.35185813\n",
      " -5.34710753 -5.34233425 -5.33753808 -5.33271879 -5.32787617 -5.32300998\n",
      " -5.31811999 -5.31320598 -5.3082677  -5.30330491 -5.29831737 -5.29330482\n",
      " -5.28826703 -5.28320373 -5.27811466 -5.27299956 -5.26785816 -5.26269019\n",
      " -5.25749537 -5.25227343 -5.24702407 -5.24174702 -5.23644196 -5.23110862\n",
      " -5.22574667 -5.22035583 -5.21493576 -5.20948615 -5.20400669 -5.19849703\n",
      " -5.19295685 -5.18738581 -5.18178355 -5.17614973 -5.170484   -5.16478597\n",
      " -5.1590553  -5.15329159 -5.14749448 -5.14166356 -5.13579844 -5.12989871\n",
      " -5.12396398 -5.11799381 -5.11198779 -5.10594547 -5.09986643 -5.0937502\n",
      " -5.08759634 -5.08140436 -5.07517382 -5.0689042  -5.06259503 -5.05624581\n",
      " -5.04985601 -5.04342512 -5.0369526  -5.03043792 -5.02388052 -5.01727984\n",
      " -5.01063529]\n"
     ]
    }
   ],
   "source": [
    "y_all_p= y_from_p(p_all)\n",
    "print(y_all_p)"
   ]
  },
  {
   "cell_type": "code",
   "execution_count": 22,
   "metadata": {},
   "outputs": [],
   "source": [
    "x_T_levels= [x_from_Tp(Ti, p_all) for Ti in T_levels]"
   ]
  },
  {
   "cell_type": "code",
   "execution_count": 23,
   "metadata": {},
   "outputs": [],
   "source": [
    "x_thetas = [x_from_Tp(Bolton.theta_dry(theta_i, p_all), p_all) for theta_i in theta_levels]"
   ]
  },
  {
   "cell_type": "code",
   "execution_count": 35,
   "metadata": {},
   "outputs": [],
   "source": [
    "x_mixing_ratios= [x_from_Tp(Bolton.mixing_ratio_line(p_all, mixing_ratio_i)+C_to_K, p_all) for mixing_ratio_i in mixing_ratios]"
   ]
  },
  {
   "cell_type": "code",
   "execution_count": 36,
   "metadata": {},
   "outputs": [],
   "source": [
    "mesh_T, mesh_p = np.meshgrid( np.arange(-60.0, T_levels.max()-C_to_K+0.1, 0.1), p_all)\n",
    "theta_ep_mesh = Bolton.theta_ep_field(mesh_T, mesh_p)"
   ]
  },
  {
   "cell_type": "code",
   "execution_count": 37,
   "metadata": {},
   "outputs": [],
   "source": [
    "def theta_e(T, p, p_0=1000):\n",
    "    R_d=287.1\n",
    "    L_v= T*(cp-cl)\n",
    "    cp=1005\n",
    "    cl=4218\n",
    "    cwd=cpd+(w_s*cl)\n",
    "    w_s=sat_mixing_ratio(p, T)\n",
    "    term_1= T* (p_0/p)**(R_d/cwd)\n",
    "    term_2= np.log((L_v*w_s)/(cwd*T))\n",
    "    theta_e= term_1*term_2\n",
    "    return (theta_e)"
   ]
  },
  {
   "cell_type": "code",
   "execution_count": 38,
   "metadata": {},
   "outputs": [],
   "source": [
    "def theta_e_line(T, p, p_0=1000):\n",
    "    w_s=sat_mixing_ratio(p,T)\n",
    "    t_e=theta_e(T, p, p_0=1000)\n",
    "    theta_e_line=t_e\n",
    "    return (theta_e_line)"
   ]
  },
  {
   "cell_type": "code",
   "execution_count": 39,
   "metadata": {},
   "outputs": [],
   "source": [
    "skew_grid_helper = GridHelperCurveLinear((from_thermo, to_thermo))\n"
   ]
  },
  {
   "cell_type": "code",
   "execution_count": 41,
   "metadata": {},
   "outputs": [
    {
     "data": {
      "image/png": "[encoded data removed]",
      "text/plain": [
       "<Figure size 432x288 with 1 Axes>"
      ]
     },
     "metadata": {},
     "output_type": "display_data"
    }
   ],
   "source": [
    "fig= plt.figure()\n",
    "ax= Subplot(fig, 1, 1, 1, grid_helper=skew_grid_helper)\n",
    "fig.add_subplot(ax)\n",
    "\n",
    "for yi in y_p_levels:\n",
    "    ax.plot((x_min, x_max), (yi, yi), color=(1.0, 0.8, 0.8))\n",
    "    \n",
    "for x_T in x_T_levels:\n",
    "    ax.plot(x_T, y_all_p, color=(1.0,0.5, 0.5))\n",
    "    \n",
    "for x_theta in x_thetas:\n",
    "    ax.plot(x_theta, y_all_p, color=(1.0, 0.7, 0.7))\n",
    "    \n",
    "for x_mixing_ratio in x_mixing_ratios:\n",
    "    good = p_all >= 600 #restrict mixng ration lines to below 600 mb\n",
    "    ax.plot(x_mixing_ratio[good], y_all_p[good], color=(0.8, 0.8, 0.6))\n",
    "    \n",
    "def format_coord(x, y):\n",
    "    T, p= to_thermo(x, y)\n",
    "    return \"{0:5.1f} C, {1:5.1f} mb\".format(float(T), float(p))\n",
    "\n",
    "ax.format_coord = format_coord\n",
    "    \n",
    "n_moist = len(theta_ep_levels)\n",
    "moist_colors= ((0.6,0.9,0.7),)*n_moist\n",
    "ax.contour(x_from_Tp(mesh_T+C_to_K, mesh_p), y_from_p(mesh_p), theta_ep_mesh, theta_ep_levels, colors=moist_colors)\n",
    "\n",
    "#your code for plotting theta_e (reversible)\n",
    "\n",
    "ax.axis((x_min, x_max, y_min, y_max))\n",
    "\n",
    "plt.show()"
   ]
  },
  {
   "cell_type": "code",
   "execution_count": 30,
   "metadata": {},
   "outputs": [
    {
     "name": "stdout",
     "output_type": "stream",
     "text": [
      "14.99475874102182\n"
     ]
    }
   ],
   "source": [
    "print(Bolton.mix_rat)"
   ]
  },
  {
   "cell_type": "code",
   "execution_count": null,
   "metadata": {},
   "outputs": [],
   "source": []
  }
 ],
 "metadata": {
  "kernelspec": {
   "display_name": "Python 3",
   "language": "python",
   "name": "python3"
  },
  "language_info": {
   "codemirror_mode": {
    "name": "ipython",
    "version": 3
   },
   "file_extension": ".py",
   "mimetype": "text/x-python",
   "name": "python",
   "nbconvert_exporter": "python",
   "pygments_lexer": "ipython3",
   "version": "3.6.5"
  }
 },
 "nbformat": 4,
 "nbformat_minor": 2
}
